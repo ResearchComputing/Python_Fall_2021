{
 "cells": [
  {
   "cell_type": "code",
   "execution_count": 1,
   "metadata": {},
   "outputs": [
    {
     "name": "stdout",
     "output_type": "stream",
     "text": [
      "['', '/home/feathern/Python_Fall_2018/session5_environment/modules2', '/home/feathern/Python_Fall_2018/session5_environment/modules1', '/custom/software/miniconda3/envs/idp3/lib/python36.zip', '/custom/software/miniconda3/envs/idp3/lib/python3.6', '/custom/software/miniconda3/envs/idp3/lib/python3.6/lib-dynload', '/custom/software/miniconda3/envs/idp3/lib/python3.6/site-packages', '/custom/software/miniconda3/envs/idp3/lib/python3.6/site-packages/IPython/extensions', '/home/feathern/.ipython']\n"
     ]
    }
   ],
   "source": [
    "import sys\n",
    "print(sys.path)"
   ]
  },
  {
   "cell_type": "code",
   "execution_count": null,
   "metadata": {
    "collapsed": true
   },
   "outputs": [],
   "source": []
  }
 ],
 "metadata": {
  "kernelspec": {
   "display_name": "Python 3",
   "language": "python",
   "name": "python3"
  },
  "language_info": {
   "codemirror_mode": {
    "name": "ipython",
    "version": 3
   },
   "file_extension": ".py",
   "mimetype": "text/x-python",
   "name": "python",
   "nbconvert_exporter": "python",
   "pygments_lexer": "ipython3",
   "version": "3.6.5"
  }
 },
 "nbformat": 4,
 "nbformat_minor": 2
}
